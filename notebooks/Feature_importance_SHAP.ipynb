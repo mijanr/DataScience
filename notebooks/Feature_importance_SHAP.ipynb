{
 "cells": [
  {
   "cell_type": "markdown",
   "metadata": {},
   "source": [
    "### This notebooks explores how to use SHAP to explain the feature importance of a model. "
   ]
  },
  {
   "cell_type": "code",
   "execution_count": 2,
   "metadata": {},
   "outputs": [],
   "source": [
    "# Import necessary libraries\n",
    "import pandas as pd\n",
    "import numpy as np\n",
    "import matplotlib.pyplot as plt\n",
    "import seaborn as sns\n",
    "import shap\n",
    "import xgboost as xgb\n",
    "from sklearn.model_selection import train_test_split\n",
    "import optuna"
   ]
  },
  {
   "cell_type": "code",
   "execution_count": 3,
   "metadata": {},
   "outputs": [
    {
     "data": {
      "text/html": [
       "<div>\n",
       "<style scoped>\n",
       "    .dataframe tbody tr th:only-of-type {\n",
       "        vertical-align: middle;\n",
       "    }\n",
       "\n",
       "    .dataframe tbody tr th {\n",
       "        vertical-align: top;\n",
       "    }\n",
       "\n",
       "    .dataframe thead th {\n",
       "        text-align: right;\n",
       "    }\n",
       "</style>\n",
       "<table border=\"1\" class=\"dataframe\">\n",
       "  <thead>\n",
       "    <tr style=\"text-align: right;\">\n",
       "      <th></th>\n",
       "      <th>sepal_length</th>\n",
       "      <th>sepal_width</th>\n",
       "      <th>petal_length</th>\n",
       "      <th>petal_width</th>\n",
       "      <th>species</th>\n",
       "    </tr>\n",
       "  </thead>\n",
       "  <tbody>\n",
       "    <tr>\n",
       "      <th>0</th>\n",
       "      <td>5.1</td>\n",
       "      <td>3.5</td>\n",
       "      <td>1.4</td>\n",
       "      <td>0.2</td>\n",
       "      <td>setosa</td>\n",
       "    </tr>\n",
       "    <tr>\n",
       "      <th>1</th>\n",
       "      <td>4.9</td>\n",
       "      <td>3.0</td>\n",
       "      <td>1.4</td>\n",
       "      <td>0.2</td>\n",
       "      <td>setosa</td>\n",
       "    </tr>\n",
       "    <tr>\n",
       "      <th>2</th>\n",
       "      <td>4.7</td>\n",
       "      <td>3.2</td>\n",
       "      <td>1.3</td>\n",
       "      <td>0.2</td>\n",
       "      <td>setosa</td>\n",
       "    </tr>\n",
       "    <tr>\n",
       "      <th>3</th>\n",
       "      <td>4.6</td>\n",
       "      <td>3.1</td>\n",
       "      <td>1.5</td>\n",
       "      <td>0.2</td>\n",
       "      <td>setosa</td>\n",
       "    </tr>\n",
       "    <tr>\n",
       "      <th>4</th>\n",
       "      <td>5.0</td>\n",
       "      <td>3.6</td>\n",
       "      <td>1.4</td>\n",
       "      <td>0.2</td>\n",
       "      <td>setosa</td>\n",
       "    </tr>\n",
       "  </tbody>\n",
       "</table>\n",
       "</div>"
      ],
      "text/plain": [
       "   sepal_length  sepal_width  petal_length  petal_width species\n",
       "0           5.1          3.5           1.4          0.2  setosa\n",
       "1           4.9          3.0           1.4          0.2  setosa\n",
       "2           4.7          3.2           1.3          0.2  setosa\n",
       "3           4.6          3.1           1.5          0.2  setosa\n",
       "4           5.0          3.6           1.4          0.2  setosa"
      ]
     },
     "execution_count": 3,
     "metadata": {},
     "output_type": "execute_result"
    }
   ],
   "source": [
    "# Load Iris dataset\n",
    "iris = sns.load_dataset('iris')\n",
    "iris.head()"
   ]
  },
  {
   "cell_type": "code",
   "execution_count": 7,
   "metadata": {},
   "outputs": [],
   "source": [
    "# map species to numeric values\n",
    "iris['species'] = iris['species'].map({'setosa': 0, 'versicolor': 1, 'virginica': 2})"
   ]
  },
  {
   "cell_type": "code",
   "execution_count": 8,
   "metadata": {},
   "outputs": [],
   "source": [
    "# Split data into train and test sets\n",
    "X = iris.drop('species', axis=1)\n",
    "y = iris['species']\n",
    "X_train, X_test, y_train, y_test = train_test_split(X, y, test_size=0.2, random_state=42)"
   ]
  },
  {
   "cell_type": "code",
   "execution_count": 16,
   "metadata": {},
   "outputs": [],
   "source": [
    "# Train XGBoost model\n",
    "def objective(trial):\n",
    "    param = {\n",
    "        'objective': 'multi:softmax',\n",
    "        'num_class': 3,\n",
    "        'learning_rate': trial.suggest_loguniform('learning_rate', 1e-3, 1e-1),\n",
    "        'max_depth': trial.suggest_int('max_depth', 3, 10),\n",
    "    }\n",
    "    model = xgb.XGBClassifier(**param)\n",
    "    model.fit(X_train, y_train)\n",
    "    y_pred = model.predict(X_test)\n",
    "    accuracy = np.mean(y_pred == y_test)\n",
    "    return accuracy"
   ]
  },
  {
   "cell_type": "code",
   "execution_count": 29,
   "metadata": {},
   "outputs": [
    {
     "name": "stderr",
     "output_type": "stream",
     "text": [
      "[I 2023-07-22 17:16:52,591] A new study created in memory with name: no-name-2a9a332b-346c-4c1d-80cc-c38469ae437a\n",
      "suggest_loguniform has been deprecated in v3.0.0. This feature will be removed in v6.0.0. See https://github.com/optuna/optuna/releases/tag/v3.0.0. Use suggest_float(..., log=True) instead.\n",
      "[I 2023-07-22 17:16:52,819] Trial 0 finished with value: 1.0 and parameters: {'learning_rate': 0.004835635354169079, 'max_depth': 4}. Best is trial 0 with value: 1.0.\n",
      "[I 2023-07-22 17:16:52,972] Trial 1 finished with value: 1.0 and parameters: {'learning_rate': 0.030590305819645704, 'max_depth': 9}. Best is trial 0 with value: 1.0.\n",
      "[I 2023-07-22 17:16:53,038] Trial 2 finished with value: 1.0 and parameters: {'learning_rate': 0.06889153097445529, 'max_depth': 3}. Best is trial 0 with value: 1.0.\n",
      "[I 2023-07-22 17:16:53,145] Trial 3 finished with value: 1.0 and parameters: {'learning_rate': 0.00257278179284527, 'max_depth': 9}. Best is trial 0 with value: 1.0.\n",
      "[I 2023-07-22 17:16:53,258] Trial 4 finished with value: 1.0 and parameters: {'learning_rate': 0.04022255102441867, 'max_depth': 10}. Best is trial 0 with value: 1.0.\n",
      "[I 2023-07-22 17:16:53,346] Trial 5 finished with value: 1.0 and parameters: {'learning_rate': 0.0016813654448799465, 'max_depth': 5}. Best is trial 0 with value: 1.0.\n",
      "[I 2023-07-22 17:16:53,472] Trial 6 finished with value: 1.0 and parameters: {'learning_rate': 0.02892116512976499, 'max_depth': 9}. Best is trial 0 with value: 1.0.\n",
      "[I 2023-07-22 17:16:53,567] Trial 7 finished with value: 1.0 and parameters: {'learning_rate': 0.008760264255116957, 'max_depth': 4}. Best is trial 0 with value: 1.0.\n",
      "[I 2023-07-22 17:16:53,652] Trial 8 finished with value: 1.0 and parameters: {'learning_rate': 0.035514617656172615, 'max_depth': 4}. Best is trial 0 with value: 1.0.\n",
      "[I 2023-07-22 17:16:53,739] Trial 9 finished with value: 1.0 and parameters: {'learning_rate': 0.013449121266987812, 'max_depth': 8}. Best is trial 0 with value: 1.0.\n",
      "[I 2023-07-22 17:16:53,836] Trial 10 finished with value: 1.0 and parameters: {'learning_rate': 0.0010432396001820085, 'max_depth': 6}. Best is trial 0 with value: 1.0.\n",
      "[I 2023-07-22 17:16:53,933] Trial 11 finished with value: 1.0 and parameters: {'learning_rate': 0.004876202303931901, 'max_depth': 7}. Best is trial 0 with value: 1.0.\n",
      "[I 2023-07-22 17:16:54,036] Trial 12 finished with value: 1.0 and parameters: {'learning_rate': 0.013318504683732541, 'max_depth': 6}. Best is trial 0 with value: 1.0.\n",
      "[I 2023-07-22 17:16:54,136] Trial 13 finished with value: 1.0 and parameters: {'learning_rate': 0.005205056919977956, 'max_depth': 7}. Best is trial 0 with value: 1.0.\n",
      "[I 2023-07-22 17:16:54,230] Trial 14 finished with value: 1.0 and parameters: {'learning_rate': 0.01622061214985885, 'max_depth': 10}. Best is trial 0 with value: 1.0.\n",
      "[I 2023-07-22 17:16:54,303] Trial 15 finished with value: 1.0 and parameters: {'learning_rate': 0.08367084156331427, 'max_depth': 3}. Best is trial 0 with value: 1.0.\n",
      "[I 2023-07-22 17:16:54,470] Trial 16 finished with value: 1.0 and parameters: {'learning_rate': 0.020204742402978936, 'max_depth': 5}. Best is trial 0 with value: 1.0.\n",
      "[I 2023-07-22 17:16:54,698] Trial 17 finished with value: 1.0 and parameters: {'learning_rate': 0.00714172567263281, 'max_depth': 8}. Best is trial 0 with value: 1.0.\n",
      "[I 2023-07-22 17:16:54,820] Trial 18 finished with value: 1.0 and parameters: {'learning_rate': 0.002961825486324876, 'max_depth': 5}. Best is trial 0 with value: 1.0.\n",
      "[I 2023-07-22 17:16:54,925] Trial 19 finished with value: 1.0 and parameters: {'learning_rate': 0.00945776034526207, 'max_depth': 8}. Best is trial 0 with value: 1.0.\n",
      "[I 2023-07-22 17:16:55,024] Trial 20 finished with value: 1.0 and parameters: {'learning_rate': 0.02068884152247256, 'max_depth': 4}. Best is trial 0 with value: 1.0.\n",
      "[I 2023-07-22 17:16:55,086] Trial 21 finished with value: 1.0 and parameters: {'learning_rate': 0.07942821834974709, 'max_depth': 3}. Best is trial 0 with value: 1.0.\n",
      "[I 2023-07-22 17:16:55,162] Trial 22 finished with value: 1.0 and parameters: {'learning_rate': 0.05318187476304987, 'max_depth': 3}. Best is trial 0 with value: 1.0.\n",
      "[I 2023-07-22 17:16:55,260] Trial 23 finished with value: 1.0 and parameters: {'learning_rate': 0.055340283687970525, 'max_depth': 4}. Best is trial 0 with value: 1.0.\n",
      "[I 2023-07-22 17:16:55,326] Trial 24 finished with value: 1.0 and parameters: {'learning_rate': 0.02431314882036207, 'max_depth': 3}. Best is trial 0 with value: 1.0.\n",
      "[I 2023-07-22 17:16:55,402] Trial 25 finished with value: 1.0 and parameters: {'learning_rate': 0.08807928233944118, 'max_depth': 5}. Best is trial 0 with value: 1.0.\n",
      "[I 2023-07-22 17:16:55,482] Trial 26 finished with value: 1.0 and parameters: {'learning_rate': 0.05146715248296115, 'max_depth': 9}. Best is trial 0 with value: 1.0.\n",
      "[I 2023-07-22 17:16:55,567] Trial 27 finished with value: 1.0 and parameters: {'learning_rate': 0.032176555951831436, 'max_depth': 6}. Best is trial 0 with value: 1.0.\n",
      "[I 2023-07-22 17:16:55,642] Trial 28 finished with value: 1.0 and parameters: {'learning_rate': 0.09856386988594819, 'max_depth': 4}. Best is trial 0 with value: 1.0.\n",
      "[I 2023-07-22 17:16:55,772] Trial 29 finished with value: 1.0 and parameters: {'learning_rate': 0.04314250162600155, 'max_depth': 7}. Best is trial 0 with value: 1.0.\n",
      "[I 2023-07-22 17:16:55,845] Trial 30 finished with value: 1.0 and parameters: {'learning_rate': 0.06794820805986714, 'max_depth': 3}. Best is trial 0 with value: 1.0.\n",
      "[I 2023-07-22 17:16:55,920] Trial 31 finished with value: 1.0 and parameters: {'learning_rate': 0.0030492927850903078, 'max_depth': 10}. Best is trial 0 with value: 1.0.\n",
      "[I 2023-07-22 17:16:56,010] Trial 32 finished with value: 1.0 and parameters: {'learning_rate': 0.037637778879941734, 'max_depth': 9}. Best is trial 0 with value: 1.0.\n",
      "[I 2023-07-22 17:16:56,095] Trial 33 finished with value: 1.0 and parameters: {'learning_rate': 0.02925305871697276, 'max_depth': 9}. Best is trial 0 with value: 1.0.\n",
      "[I 2023-07-22 17:16:56,190] Trial 34 finished with value: 1.0 and parameters: {'learning_rate': 0.00223853036355261, 'max_depth': 10}. Best is trial 0 with value: 1.0.\n",
      "[I 2023-07-22 17:16:56,281] Trial 35 finished with value: 1.0 and parameters: {'learning_rate': 0.0610537365602154, 'max_depth': 9}. Best is trial 0 with value: 1.0.\n",
      "[I 2023-07-22 17:16:56,369] Trial 36 finished with value: 1.0 and parameters: {'learning_rate': 0.04546835453400584, 'max_depth': 8}. Best is trial 0 with value: 1.0.\n",
      "[I 2023-07-22 17:16:56,462] Trial 37 finished with value: 1.0 and parameters: {'learning_rate': 0.034738845194758936, 'max_depth': 5}. Best is trial 0 with value: 1.0.\n",
      "[I 2023-07-22 17:16:56,541] Trial 38 finished with value: 1.0 and parameters: {'learning_rate': 0.0015405760351057363, 'max_depth': 8}. Best is trial 0 with value: 1.0.\n",
      "[I 2023-07-22 17:16:56,617] Trial 39 finished with value: 1.0 and parameters: {'learning_rate': 0.0069233265301280435, 'max_depth': 10}. Best is trial 0 with value: 1.0.\n",
      "[I 2023-07-22 17:16:56,700] Trial 40 finished with value: 1.0 and parameters: {'learning_rate': 0.012498541720452679, 'max_depth': 7}. Best is trial 0 with value: 1.0.\n",
      "[I 2023-07-22 17:16:56,770] Trial 41 finished with value: 1.0 and parameters: {'learning_rate': 0.06727530362966823, 'max_depth': 10}. Best is trial 0 with value: 1.0.\n",
      "[I 2023-07-22 17:16:56,856] Trial 42 finished with value: 1.0 and parameters: {'learning_rate': 0.04671563625516111, 'max_depth': 9}. Best is trial 0 with value: 1.0.\n",
      "[I 2023-07-22 17:16:56,935] Trial 43 finished with value: 1.0 and parameters: {'learning_rate': 0.026609570463861438, 'max_depth': 9}. Best is trial 0 with value: 1.0.\n",
      "[I 2023-07-22 17:16:57,018] Trial 44 finished with value: 1.0 and parameters: {'learning_rate': 0.03714547317965822, 'max_depth': 10}. Best is trial 0 with value: 1.0.\n",
      "[I 2023-07-22 17:16:57,098] Trial 45 finished with value: 1.0 and parameters: {'learning_rate': 0.004665657623377395, 'max_depth': 4}. Best is trial 0 with value: 1.0.\n",
      "[I 2023-07-22 17:16:57,178] Trial 46 finished with value: 1.0 and parameters: {'learning_rate': 0.017576671723314865, 'max_depth': 8}. Best is trial 0 with value: 1.0.\n",
      "[I 2023-07-22 17:16:57,270] Trial 47 finished with value: 1.0 and parameters: {'learning_rate': 0.07272130886697778, 'max_depth': 6}. Best is trial 0 with value: 1.0.\n",
      "[I 2023-07-22 17:16:57,346] Trial 48 finished with value: 1.0 and parameters: {'learning_rate': 0.06243907220910888, 'max_depth': 9}. Best is trial 0 with value: 1.0.\n",
      "[I 2023-07-22 17:16:57,510] Trial 49 finished with value: 1.0 and parameters: {'learning_rate': 0.024143573955325334, 'max_depth': 10}. Best is trial 0 with value: 1.0.\n",
      "[I 2023-07-22 17:16:57,568] Trial 50 finished with value: 1.0 and parameters: {'learning_rate': 0.01174830899591271, 'max_depth': 3}. Best is trial 0 with value: 1.0.\n",
      "[I 2023-07-22 17:16:57,648] Trial 51 finished with value: 1.0 and parameters: {'learning_rate': 0.001601905909574988, 'max_depth': 4}. Best is trial 0 with value: 1.0.\n",
      "[I 2023-07-22 17:16:57,733] Trial 52 finished with value: 1.0 and parameters: {'learning_rate': 0.0033991650638030527, 'max_depth': 5}. Best is trial 0 with value: 1.0.\n",
      "[I 2023-07-22 17:16:57,816] Trial 53 finished with value: 1.0 and parameters: {'learning_rate': 0.004078669393617919, 'max_depth': 5}. Best is trial 0 with value: 1.0.\n",
      "[I 2023-07-22 17:16:57,889] Trial 54 finished with value: 1.0 and parameters: {'learning_rate': 0.0023457006532523923, 'max_depth': 4}. Best is trial 0 with value: 1.0.\n",
      "[I 2023-07-22 17:16:57,953] Trial 55 finished with value: 1.0 and parameters: {'learning_rate': 0.007673138705482253, 'max_depth': 3}. Best is trial 0 with value: 1.0.\n",
      "[I 2023-07-22 17:16:58,043] Trial 56 finished with value: 1.0 and parameters: {'learning_rate': 0.005575950222835575, 'max_depth': 6}. Best is trial 0 with value: 1.0.\n",
      "[I 2023-07-22 17:16:58,129] Trial 57 finished with value: 1.0 and parameters: {'learning_rate': 0.08480905633597904, 'max_depth': 4}. Best is trial 0 with value: 1.0.\n",
      "[I 2023-07-22 17:16:58,204] Trial 58 finished with value: 1.0 and parameters: {'learning_rate': 0.010106126856257785, 'max_depth': 7}. Best is trial 0 with value: 1.0.\n",
      "[I 2023-07-22 17:16:58,272] Trial 59 finished with value: 1.0 and parameters: {'learning_rate': 0.0010507664682098095, 'max_depth': 3}. Best is trial 0 with value: 1.0.\n",
      "[I 2023-07-22 17:16:58,360] Trial 60 finished with value: 1.0 and parameters: {'learning_rate': 0.03210076104606993, 'max_depth': 5}. Best is trial 0 with value: 1.0.\n",
      "[I 2023-07-22 17:16:58,459] Trial 61 finished with value: 1.0 and parameters: {'learning_rate': 0.042149029330907244, 'max_depth': 8}. Best is trial 0 with value: 1.0.\n",
      "[I 2023-07-22 17:16:58,534] Trial 62 finished with value: 1.0 and parameters: {'learning_rate': 0.05111597806455084, 'max_depth': 9}. Best is trial 0 with value: 1.0.\n",
      "[I 2023-07-22 17:16:58,618] Trial 63 finished with value: 1.0 and parameters: {'learning_rate': 0.015405230093155852, 'max_depth': 10}. Best is trial 0 with value: 1.0.\n",
      "[I 2023-07-22 17:16:58,695] Trial 64 finished with value: 1.0 and parameters: {'learning_rate': 0.022413391570168886, 'max_depth': 9}. Best is trial 0 with value: 1.0.\n",
      "[I 2023-07-22 17:16:58,769] Trial 65 finished with value: 1.0 and parameters: {'learning_rate': 0.0281201478555414, 'max_depth': 4}. Best is trial 0 with value: 1.0.\n",
      "[I 2023-07-22 17:16:58,840] Trial 66 finished with value: 1.0 and parameters: {'learning_rate': 0.05730923332075666, 'max_depth': 8}. Best is trial 0 with value: 1.0.\n",
      "[I 2023-07-22 17:16:58,916] Trial 67 finished with value: 1.0 and parameters: {'learning_rate': 0.020605879433654623, 'max_depth': 9}. Best is trial 0 with value: 1.0.\n",
      "[I 2023-07-22 17:16:59,023] Trial 68 finished with value: 1.0 and parameters: {'learning_rate': 0.040615532071344725, 'max_depth': 10}. Best is trial 0 with value: 1.0.\n",
      "[I 2023-07-22 17:16:59,096] Trial 69 finished with value: 1.0 and parameters: {'learning_rate': 0.03160662501586224, 'max_depth': 3}. Best is trial 0 with value: 1.0.\n",
      "[I 2023-07-22 17:16:59,176] Trial 70 finished with value: 1.0 and parameters: {'learning_rate': 0.05169333362391547, 'max_depth': 6}. Best is trial 0 with value: 1.0.\n",
      "[I 2023-07-22 17:16:59,260] Trial 71 finished with value: 1.0 and parameters: {'learning_rate': 0.03551787001500848, 'max_depth': 5}. Best is trial 0 with value: 1.0.\n",
      "[I 2023-07-22 17:16:59,330] Trial 72 finished with value: 1.0 and parameters: {'learning_rate': 0.09818593117135814, 'max_depth': 4}. Best is trial 0 with value: 1.0.\n",
      "[I 2023-07-22 17:16:59,417] Trial 73 finished with value: 1.0 and parameters: {'learning_rate': 0.01891528609645695, 'max_depth': 4}. Best is trial 0 with value: 1.0.\n",
      "[I 2023-07-22 17:16:59,489] Trial 74 finished with value: 1.0 and parameters: {'learning_rate': 0.01509767388342421, 'max_depth': 3}. Best is trial 0 with value: 1.0.\n",
      "[I 2023-07-22 17:16:59,577] Trial 75 finished with value: 1.0 and parameters: {'learning_rate': 0.07451261277236662, 'max_depth': 9}. Best is trial 0 with value: 1.0.\n",
      "[I 2023-07-22 17:16:59,658] Trial 76 finished with value: 1.0 and parameters: {'learning_rate': 0.026187458553485934, 'max_depth': 8}. Best is trial 0 with value: 1.0.\n",
      "[I 2023-07-22 17:16:59,733] Trial 77 finished with value: 1.0 and parameters: {'learning_rate': 0.04690492022454347, 'max_depth': 10}. Best is trial 0 with value: 1.0.\n",
      "[I 2023-07-22 17:16:59,818] Trial 78 finished with value: 1.0 and parameters: {'learning_rate': 0.04034698837111323, 'max_depth': 4}. Best is trial 0 with value: 1.0.\n",
      "[I 2023-07-22 17:16:59,889] Trial 79 finished with value: 1.0 and parameters: {'learning_rate': 0.017643540490227573, 'max_depth': 3}. Best is trial 0 with value: 1.0.\n",
      "[I 2023-07-22 17:16:59,976] Trial 80 finished with value: 1.0 and parameters: {'learning_rate': 0.023940705143601543, 'max_depth': 5}. Best is trial 0 with value: 1.0.\n",
      "[I 2023-07-22 17:17:00,050] Trial 81 finished with value: 1.0 and parameters: {'learning_rate': 0.028518544170420906, 'max_depth': 4}. Best is trial 0 with value: 1.0.\n",
      "[I 2023-07-22 17:17:00,127] Trial 82 finished with value: 1.0 and parameters: {'learning_rate': 0.032558588844033995, 'max_depth': 4}. Best is trial 0 with value: 1.0.\n",
      "[I 2023-07-22 17:17:00,214] Trial 83 finished with value: 1.0 and parameters: {'learning_rate': 0.06093049890015028, 'max_depth': 5}. Best is trial 0 with value: 1.0.\n",
      "[I 2023-07-22 17:17:00,288] Trial 84 finished with value: 1.0 and parameters: {'learning_rate': 0.039547369448438584, 'max_depth': 4}. Best is trial 0 with value: 1.0.\n",
      "[I 2023-07-22 17:17:00,376] Trial 85 finished with value: 1.0 and parameters: {'learning_rate': 0.03666413537049518, 'max_depth': 9}. Best is trial 0 with value: 1.0.\n",
      "[I 2023-07-22 17:17:00,443] Trial 86 finished with value: 1.0 and parameters: {'learning_rate': 0.04666373607052817, 'max_depth': 3}. Best is trial 0 with value: 1.0.\n",
      "[I 2023-07-22 17:17:00,537] Trial 87 finished with value: 1.0 and parameters: {'learning_rate': 0.022630417316985497, 'max_depth': 7}. Best is trial 0 with value: 1.0.\n",
      "[I 2023-07-22 17:17:00,655] Trial 88 finished with value: 1.0 and parameters: {'learning_rate': 0.06945370319250965, 'max_depth': 5}. Best is trial 0 with value: 1.0.\n",
      "[I 2023-07-22 17:17:00,736] Trial 89 finished with value: 1.0 and parameters: {'learning_rate': 0.07874409326258833, 'max_depth': 9}. Best is trial 0 with value: 1.0.\n",
      "[I 2023-07-22 17:17:00,833] Trial 90 finished with value: 1.0 and parameters: {'learning_rate': 0.005783318792061588, 'max_depth': 10}. Best is trial 0 with value: 1.0.\n",
      "[I 2023-07-22 17:17:00,908] Trial 91 finished with value: 1.0 and parameters: {'learning_rate': 0.008814200816185577, 'max_depth': 8}. Best is trial 0 with value: 1.0.\n",
      "[I 2023-07-22 17:17:00,988] Trial 92 finished with value: 1.0 and parameters: {'learning_rate': 0.0066721936603439495, 'max_depth': 9}. Best is trial 0 with value: 1.0.\n",
      "[I 2023-07-22 17:17:01,070] Trial 93 finished with value: 1.0 and parameters: {'learning_rate': 0.014497948675816951, 'max_depth': 6}. Best is trial 0 with value: 1.0.\n",
      "[I 2023-07-22 17:17:01,142] Trial 94 finished with value: 1.0 and parameters: {'learning_rate': 0.011921747585528034, 'max_depth': 8}. Best is trial 0 with value: 1.0.\n",
      "[I 2023-07-22 17:17:01,294] Trial 95 finished with value: 1.0 and parameters: {'learning_rate': 0.026161527407639995, 'max_depth': 9}. Best is trial 0 with value: 1.0.\n",
      "[I 2023-07-22 17:17:01,373] Trial 96 finished with value: 1.0 and parameters: {'learning_rate': 0.0312784582477301, 'max_depth': 8}. Best is trial 0 with value: 1.0.\n",
      "[I 2023-07-22 17:17:01,459] Trial 97 finished with value: 1.0 and parameters: {'learning_rate': 0.004072400456534075, 'max_depth': 7}. Best is trial 0 with value: 1.0.\n",
      "[I 2023-07-22 17:17:01,568] Trial 98 finished with value: 1.0 and parameters: {'learning_rate': 0.010427984902623387, 'max_depth': 10}. Best is trial 0 with value: 1.0.\n",
      "[I 2023-07-22 17:17:01,654] Trial 99 finished with value: 1.0 and parameters: {'learning_rate': 0.02058741495548195, 'max_depth': 4}. Best is trial 0 with value: 1.0.\n"
     ]
    }
   ],
   "source": [
    "# Run optuna\n",
    "study = optuna.create_study(direction='maximize')\n",
    "study.optimize(objective, n_trials=100)"
   ]
  },
  {
   "cell_type": "code",
   "execution_count": 30,
   "metadata": {},
   "outputs": [],
   "source": [
    "# best hyperparameters\n",
    "best_params = study.best_params"
   ]
  },
  {
   "cell_type": "code",
   "execution_count": 31,
   "metadata": {},
   "outputs": [
    {
     "data": {
      "text/plain": [
       "{'learning_rate': 0.004835635354169079, 'max_depth': 4}"
      ]
     },
     "execution_count": 31,
     "metadata": {},
     "output_type": "execute_result"
    }
   ],
   "source": [
    "best_params"
   ]
  },
  {
   "cell_type": "code",
   "execution_count": 32,
   "metadata": {},
   "outputs": [
    {
     "data": {
      "text/html": [
       "<style>#sk-container-id-3 {color: black;background-color: white;}#sk-container-id-3 pre{padding: 0;}#sk-container-id-3 div.sk-toggleable {background-color: white;}#sk-container-id-3 label.sk-toggleable__label {cursor: pointer;display: block;width: 100%;margin-bottom: 0;padding: 0.3em;box-sizing: border-box;text-align: center;}#sk-container-id-3 label.sk-toggleable__label-arrow:before {content: \"▸\";float: left;margin-right: 0.25em;color: #696969;}#sk-container-id-3 label.sk-toggleable__label-arrow:hover:before {color: black;}#sk-container-id-3 div.sk-estimator:hover label.sk-toggleable__label-arrow:before {color: black;}#sk-container-id-3 div.sk-toggleable__content {max-height: 0;max-width: 0;overflow: hidden;text-align: left;background-color: #f0f8ff;}#sk-container-id-3 div.sk-toggleable__content pre {margin: 0.2em;color: black;border-radius: 0.25em;background-color: #f0f8ff;}#sk-container-id-3 input.sk-toggleable__control:checked~div.sk-toggleable__content {max-height: 200px;max-width: 100%;overflow: auto;}#sk-container-id-3 input.sk-toggleable__control:checked~label.sk-toggleable__label-arrow:before {content: \"▾\";}#sk-container-id-3 div.sk-estimator input.sk-toggleable__control:checked~label.sk-toggleable__label {background-color: #d4ebff;}#sk-container-id-3 div.sk-label input.sk-toggleable__control:checked~label.sk-toggleable__label {background-color: #d4ebff;}#sk-container-id-3 input.sk-hidden--visually {border: 0;clip: rect(1px 1px 1px 1px);clip: rect(1px, 1px, 1px, 1px);height: 1px;margin: -1px;overflow: hidden;padding: 0;position: absolute;width: 1px;}#sk-container-id-3 div.sk-estimator {font-family: monospace;background-color: #f0f8ff;border: 1px dotted black;border-radius: 0.25em;box-sizing: border-box;margin-bottom: 0.5em;}#sk-container-id-3 div.sk-estimator:hover {background-color: #d4ebff;}#sk-container-id-3 div.sk-parallel-item::after {content: \"\";width: 100%;border-bottom: 1px solid gray;flex-grow: 1;}#sk-container-id-3 div.sk-label:hover label.sk-toggleable__label {background-color: #d4ebff;}#sk-container-id-3 div.sk-serial::before {content: \"\";position: absolute;border-left: 1px solid gray;box-sizing: border-box;top: 0;bottom: 0;left: 50%;z-index: 0;}#sk-container-id-3 div.sk-serial {display: flex;flex-direction: column;align-items: center;background-color: white;padding-right: 0.2em;padding-left: 0.2em;position: relative;}#sk-container-id-3 div.sk-item {position: relative;z-index: 1;}#sk-container-id-3 div.sk-parallel {display: flex;align-items: stretch;justify-content: center;background-color: white;position: relative;}#sk-container-id-3 div.sk-item::before, #sk-container-id-3 div.sk-parallel-item::before {content: \"\";position: absolute;border-left: 1px solid gray;box-sizing: border-box;top: 0;bottom: 0;left: 50%;z-index: -1;}#sk-container-id-3 div.sk-parallel-item {display: flex;flex-direction: column;z-index: 1;position: relative;background-color: white;}#sk-container-id-3 div.sk-parallel-item:first-child::after {align-self: flex-end;width: 50%;}#sk-container-id-3 div.sk-parallel-item:last-child::after {align-self: flex-start;width: 50%;}#sk-container-id-3 div.sk-parallel-item:only-child::after {width: 0;}#sk-container-id-3 div.sk-dashed-wrapped {border: 1px dashed gray;margin: 0 0.4em 0.5em 0.4em;box-sizing: border-box;padding-bottom: 0.4em;background-color: white;}#sk-container-id-3 div.sk-label label {font-family: monospace;font-weight: bold;display: inline-block;line-height: 1.2em;}#sk-container-id-3 div.sk-label-container {text-align: center;}#sk-container-id-3 div.sk-container {/* jupyter's `normalize.less` sets `[hidden] { display: none; }` but bootstrap.min.css set `[hidden] { display: none !important; }` so we also need the `!important` here to be able to override the default hidden behavior on the sphinx rendered scikit-learn.org. See: https://github.com/scikit-learn/scikit-learn/issues/21755 */display: inline-block !important;position: relative;}#sk-container-id-3 div.sk-text-repr-fallback {display: none;}</style><div id=\"sk-container-id-3\" class=\"sk-top-container\"><div class=\"sk-text-repr-fallback\"><pre>XGBClassifier(base_score=None, booster=None, callbacks=None,\n",
       "              colsample_bylevel=None, colsample_bynode=None,\n",
       "              colsample_bytree=None, early_stopping_rounds=None,\n",
       "              enable_categorical=False, eval_metric=None, feature_types=None,\n",
       "              gamma=None, gpu_id=None, grow_policy=None, importance_type=None,\n",
       "              interaction_constraints=None, learning_rate=0.004835635354169079,\n",
       "              max_bin=None, max_cat_threshold=None, max_cat_to_onehot=None,\n",
       "              max_delta_step=None, max_depth=4, max_leaves=None,\n",
       "              min_child_weight=None, missing=nan, monotone_constraints=None,\n",
       "              n_estimators=100, n_jobs=None, num_parallel_tree=None,\n",
       "              objective=&#x27;multi:softprob&#x27;, predictor=None, ...)</pre><b>In a Jupyter environment, please rerun this cell to show the HTML representation or trust the notebook. <br />On GitHub, the HTML representation is unable to render, please try loading this page with nbviewer.org.</b></div><div class=\"sk-container\" hidden><div class=\"sk-item\"><div class=\"sk-estimator sk-toggleable\"><input class=\"sk-toggleable__control sk-hidden--visually\" id=\"sk-estimator-id-3\" type=\"checkbox\" checked><label for=\"sk-estimator-id-3\" class=\"sk-toggleable__label sk-toggleable__label-arrow\">XGBClassifier</label><div class=\"sk-toggleable__content\"><pre>XGBClassifier(base_score=None, booster=None, callbacks=None,\n",
       "              colsample_bylevel=None, colsample_bynode=None,\n",
       "              colsample_bytree=None, early_stopping_rounds=None,\n",
       "              enable_categorical=False, eval_metric=None, feature_types=None,\n",
       "              gamma=None, gpu_id=None, grow_policy=None, importance_type=None,\n",
       "              interaction_constraints=None, learning_rate=0.004835635354169079,\n",
       "              max_bin=None, max_cat_threshold=None, max_cat_to_onehot=None,\n",
       "              max_delta_step=None, max_depth=4, max_leaves=None,\n",
       "              min_child_weight=None, missing=nan, monotone_constraints=None,\n",
       "              n_estimators=100, n_jobs=None, num_parallel_tree=None,\n",
       "              objective=&#x27;multi:softprob&#x27;, predictor=None, ...)</pre></div></div></div></div></div>"
      ],
      "text/plain": [
       "XGBClassifier(base_score=None, booster=None, callbacks=None,\n",
       "              colsample_bylevel=None, colsample_bynode=None,\n",
       "              colsample_bytree=None, early_stopping_rounds=None,\n",
       "              enable_categorical=False, eval_metric=None, feature_types=None,\n",
       "              gamma=None, gpu_id=None, grow_policy=None, importance_type=None,\n",
       "              interaction_constraints=None, learning_rate=0.004835635354169079,\n",
       "              max_bin=None, max_cat_threshold=None, max_cat_to_onehot=None,\n",
       "              max_delta_step=None, max_depth=4, max_leaves=None,\n",
       "              min_child_weight=None, missing=nan, monotone_constraints=None,\n",
       "              n_estimators=100, n_jobs=None, num_parallel_tree=None,\n",
       "              objective='multi:softprob', predictor=None, ...)"
      ]
     },
     "execution_count": 32,
     "metadata": {},
     "output_type": "execute_result"
    }
   ],
   "source": [
    "# Train model with best hyperparameters\n",
    "model = xgb.XGBClassifier(**best_params)\n",
    "model.fit(X_train, y_train)"
   ]
  },
  {
   "cell_type": "code",
   "execution_count": 43,
   "metadata": {},
   "outputs": [],
   "source": [
    "# Calculate SHAP values\n",
    "explainer = shap.TreeExplainer(model)\n",
    "shap_values = explainer.shap_values(X_test)"
   ]
  },
  {
   "cell_type": "code",
   "execution_count": 45,
   "metadata": {},
   "outputs": [
    {
     "data": {
      "image/png": "[encoded data removed]",
      "text/plain": [
       "<Figure size 800x310 with 1 Axes>"
      ]
     },
     "metadata": {},
     "output_type": "display_data"
    }
   ],
   "source": [
    "# Plot SHAP values\n",
    "shap.summary_plot(shap_values, X_test, plot_type='bar')\n"
   ]
  },
  {
   "cell_type": "code",
   "execution_count": null,
   "metadata": {},
   "outputs": [],
   "source": []
  },
  {
   "cell_type": "code",
   "execution_count": null,
   "metadata": {},
   "outputs": [],
   "source": []
  }
 ],
 "metadata": {
  "kernelspec": {
   "display_name": "base",
   "language": "python",
   "name": "python3"
  },
  "language_info": {
   "codemirror_mode": {
    "name": "ipython",
    "version": 3
   },
   "file_extension": ".py",
   "mimetype": "text/x-python",
   "name": "python",
   "nbconvert_exporter": "python",
   "pygments_lexer": "ipython3",
   "version": "3.11.4"
  },
  "orig_nbformat": 4
 },
 "nbformat": 4,
 "nbformat_minor": 2
}
