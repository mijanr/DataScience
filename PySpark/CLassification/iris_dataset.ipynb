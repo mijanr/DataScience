{
 "cells": [
  {
   "cell_type": "code",
   "execution_count": 23,
   "metadata": {},
   "outputs": [],
   "source": [
    "#import necessary libraries\n",
    "from pyspark.sql import SparkSession\n",
    "from pyspark.ml.feature import VectorAssembler\n",
    "from pyspark.ml.feature import StringIndexer\n",
    "from pyspark.ml.classification import LogisticRegression\n",
    "from pyspark.ml.evaluation import MulticlassClassificationEvaluator"
   ]
  },
  {
   "cell_type": "code",
   "execution_count": 24,
   "metadata": {},
   "outputs": [],
   "source": [
    "# Create a spark session/application\n",
    "spark = SparkSession.builder.appName('iris_dataset').getOrCreate()"
   ]
  },
  {
   "cell_type": "code",
   "execution_count": 25,
   "metadata": {},
   "outputs": [],
   "source": [
    "# Load the dataset\n",
    "df = spark.read.csv('../../data/iris.csv', inferSchema=True, header=True)"
   ]
  },
  {
   "cell_type": "code",
   "execution_count": 26,
   "metadata": {},
   "outputs": [
    {
     "name": "stdout",
     "output_type": "stream",
     "text": [
      "root\n",
      " |-- sepal_length: double (nullable = true)\n",
      " |-- sepal_width: double (nullable = true)\n",
      " |-- petal_length: double (nullable = true)\n",
      " |-- petal_width: double (nullable = true)\n",
      " |-- species: string (nullable = true)\n",
      "\n"
     ]
    },
    {
     "data": {
      "text/plain": [
       "None"
      ]
     },
     "metadata": {},
     "output_type": "display_data"
    },
    {
     "name": "stdout",
     "output_type": "stream",
     "text": [
      "+------------+-----------+------------+-----------+---------+\n",
      "|sepal_length|sepal_width|petal_length|petal_width|  species|\n",
      "+------------+-----------+------------+-----------+---------+\n",
      "|         6.0|        3.0|         4.8|        1.8|virginica|\n",
      "|         6.9|        3.1|         5.4|        2.1|virginica|\n",
      "|         6.7|        3.1|         5.6|        2.4|virginica|\n",
      "|         6.9|        3.1|         5.1|        2.3|virginica|\n",
      "|         5.8|        2.7|         5.1|        1.9|virginica|\n",
      "+------------+-----------+------------+-----------+---------+\n",
      "only showing top 5 rows\n",
      "\n"
     ]
    },
    {
     "data": {
      "text/plain": [
       "None"
      ]
     },
     "metadata": {},
     "output_type": "display_data"
    }
   ],
   "source": [
    "display(df.printSchema())\n",
    "display(df.show(5))"
   ]
  },
  {
   "cell_type": "code",
   "execution_count": 27,
   "metadata": {},
   "outputs": [],
   "source": [
    "#encode the species column\n",
    "indexer = StringIndexer(inputCol='species', outputCol='label')\n",
    "df = indexer.fit(df).transform(df)"
   ]
  },
  {
   "cell_type": "code",
   "execution_count": 28,
   "metadata": {},
   "outputs": [
    {
     "name": "stdout",
     "output_type": "stream",
     "text": [
      "+------------+-----------+------------+-----------+---------+-----+\n",
      "|sepal_length|sepal_width|petal_length|petal_width|  species|label|\n",
      "+------------+-----------+------------+-----------+---------+-----+\n",
      "|         6.0|        3.0|         4.8|        1.8|virginica|  2.0|\n",
      "|         6.9|        3.1|         5.4|        2.1|virginica|  2.0|\n",
      "|         6.7|        3.1|         5.6|        2.4|virginica|  2.0|\n",
      "|         6.9|        3.1|         5.1|        2.3|virginica|  2.0|\n",
      "|         5.8|        2.7|         5.1|        1.9|virginica|  2.0|\n",
      "+------------+-----------+------------+-----------+---------+-----+\n",
      "only showing top 5 rows\n",
      "\n"
     ]
    }
   ],
   "source": [
    "df.show(5)"
   ]
  },
  {
   "cell_type": "code",
   "execution_count": 29,
   "metadata": {},
   "outputs": [],
   "source": [
    "# Create a vector assembler for the feature columns\n",
    "assembler = VectorAssembler(inputCols=['sepal_length', 'sepal_width', 'petal_length', 'petal_width'], outputCol='features')\n",
    "df = assembler.transform(df)"
   ]
  },
  {
   "cell_type": "code",
   "execution_count": 31,
   "metadata": {},
   "outputs": [
    {
     "name": "stdout",
     "output_type": "stream",
     "text": [
      "+------------+-----------+------------+-----------+---------+-----+-----------------+\n",
      "|sepal_length|sepal_width|petal_length|petal_width|  species|label|         features|\n",
      "+------------+-----------+------------+-----------+---------+-----+-----------------+\n",
      "|         6.0|        3.0|         4.8|        1.8|virginica|  2.0|[6.0,3.0,4.8,1.8]|\n",
      "|         6.9|        3.1|         5.4|        2.1|virginica|  2.0|[6.9,3.1,5.4,2.1]|\n",
      "|         6.7|        3.1|         5.6|        2.4|virginica|  2.0|[6.7,3.1,5.6,2.4]|\n",
      "|         6.9|        3.1|         5.1|        2.3|virginica|  2.0|[6.9,3.1,5.1,2.3]|\n",
      "|         5.8|        2.7|         5.1|        1.9|virginica|  2.0|[5.8,2.7,5.1,1.9]|\n",
      "+------------+-----------+------------+-----------+---------+-----+-----------------+\n",
      "only showing top 5 rows\n",
      "\n"
     ]
    }
   ],
   "source": [
    "df.show(5)"
   ]
  },
  {
   "cell_type": "code",
   "execution_count": 32,
   "metadata": {},
   "outputs": [],
   "source": [
    "# Split the data into train and test sets\n",
    "train, test = df.randomSplit([0.7, 0.3])"
   ]
  },
  {
   "cell_type": "code",
   "execution_count": 34,
   "metadata": {},
   "outputs": [],
   "source": [
    "# Create a logistic regression model\n",
    "lr = LogisticRegression(featuresCol='features', labelCol='label')\n",
    "\n",
    "# Fit the model\n",
    "lr_model = lr.fit(train)\n",
    "\n",
    "# Make predictions\n",
    "predictions = lr_model.transform(test)"
   ]
  },
  {
   "cell_type": "code",
   "execution_count": 35,
   "metadata": {},
   "outputs": [
    {
     "name": "stdout",
     "output_type": "stream",
     "text": [
      "+------------+-----------+------------+-----------+----------+-----+-----------------+--------------------+--------------------+----------+\n",
      "|sepal_length|sepal_width|petal_length|petal_width|   species|label|         features|       rawPrediction|         probability|prediction|\n",
      "+------------+-----------+------------+-----------+----------+-----+-----------------+--------------------+--------------------+----------+\n",
      "|         6.0|        3.0|         4.8|        1.8| virginica|  2.0|[6.0,3.0,4.8,1.8]|[-606.96116122220...|[0.0,1.0,1.875347...|       1.0|\n",
      "|         6.2|        3.4|         5.4|        2.3| virginica|  2.0|[6.2,3.4,5.4,2.3]|[-801.13941719412...|[0.0,3.7897443622...|       2.0|\n",
      "|         6.3|        2.5|         5.0|        1.9| virginica|  2.0|[6.3,2.5,5.0,1.9]|[-1019.3040539894...|[0.0,7.2281409627...|       2.0|\n",
      "|         6.9|        3.1|         5.4|        2.1| virginica|  2.0|[6.9,3.1,5.4,2.1]|[-1042.0309683354...|[0.0,6.2948059475...|       2.0|\n",
      "|         6.2|        2.2|         4.5|        1.5|versicolor|  1.0|[6.2,2.2,4.5,1.5]|[-865.09804333240...|[0.0,1.0,2.736952...|       1.0|\n",
      "+------------+-----------+------------+-----------+----------+-----+-----------------+--------------------+--------------------+----------+\n",
      "only showing top 5 rows\n",
      "\n"
     ]
    }
   ],
   "source": [
    "predictions.show(5)"
   ]
  },
  {
   "cell_type": "code",
   "execution_count": 36,
   "metadata": {},
   "outputs": [],
   "source": [
    "# Evaluate the model\n",
    "evaluator = MulticlassClassificationEvaluator(predictionCol='prediction', labelCol='label', metricName='accuracy')\n",
    "accuracy = evaluator.evaluate(predictions)"
   ]
  },
  {
   "cell_type": "code",
   "execution_count": 37,
   "metadata": {},
   "outputs": [
    {
     "name": "stdout",
     "output_type": "stream",
     "text": [
      "Accuracy of the model is:  0.8947368421052632\n"
     ]
    }
   ],
   "source": [
    "# Print the accuracy\n",
    "print('Accuracy of the model is: ', accuracy)"
   ]
  },
  {
   "cell_type": "code",
   "execution_count": 40,
   "metadata": {},
   "outputs": [
    {
     "name": "stdout",
     "output_type": "stream",
     "text": [
      "[[11.  1.  0.]\n",
      " [ 0. 14.  0.]\n",
      " [ 0.  3.  9.]]\n"
     ]
    }
   ],
   "source": [
    "# Classification report\n",
    "from pyspark.mllib.evaluation import MulticlassMetrics\n",
    "\n",
    "# Convert the predictions and labels to RDD\n",
    "predictionAndLabels = predictions.select(['prediction', 'label']).rdd\n",
    "\n",
    "# Instantiate the metrics object\n",
    "metrics = MulticlassMetrics(predictionAndLabels)\n",
    "\n",
    "# Print the confusion matrix\n",
    "print(metrics.confusionMatrix().toArray())"
   ]
  },
  {
   "cell_type": "code",
   "execution_count": 47,
   "metadata": {},
   "outputs": [
    {
     "name": "stdout",
     "output_type": "stream",
     "text": [
      "Precision of class 0.0 is 1.0\n",
      "Recall of class 0.0 is 0.9166666666666666\n",
      "F1 score of class 0.0 is 0.9565217391304348\n",
      "Precision of class 1.0 is 0.7777777777777778\n",
      "Recall of class 1.0 is 1.0\n",
      "F1 score of class 1.0 is 0.8750000000000001\n",
      "Precision of class 2.0 is 1.0\n",
      "Recall of class 2.0 is 0.75\n",
      "F1 score of class 2.0 is 0.8571428571428571\n"
     ]
    }
   ],
   "source": [
    "# Create Precision, Recall and F1 score for each class\n",
    "labels = [0.0, 1.0, 2.0]\n",
    "for label in labels:\n",
    "    print(f'Precision of class {label} is {metrics.precision(label)}')\n",
    "    print(f'Recall of class {label} is {metrics.recall(label)}')\n",
    "    print(f'F1 score of class {label} is {metrics.fMeasure(label)}')"
   ]
  }
 ],
 "metadata": {
  "kernelspec": {
   "display_name": "pyspark_env",
   "language": "python",
   "name": "python3"
  },
  "language_info": {
   "codemirror_mode": {
    "name": "ipython",
    "version": 3
   },
   "file_extension": ".py",
   "mimetype": "text/x-python",
   "name": "python",
   "nbconvert_exporter": "python",
   "pygments_lexer": "ipython3",
   "version": "3.9.16"
  },
  "orig_nbformat": 4
 },
 "nbformat": 4,
 "nbformat_minor": 2
}
