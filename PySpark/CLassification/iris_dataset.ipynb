{
 "cells": [
  {
   "cell_type": "code",
   "execution_count": 56,
   "metadata": {},
   "outputs": [],
   "source": [
    "#import necessary libraries\n",
    "from pyspark.sql import SparkSession\n",
    "from pyspark.ml.feature import VectorAssembler\n",
    "from pyspark.ml.feature import StringIndexer\n",
    "from pyspark.mllib.evaluation import MulticlassMetrics\n",
    "from pyspark.ml.classification import LogisticRegression, DecisionTreeClassifier, RandomForestClassifier\n",
    "from pyspark.ml.evaluation import MulticlassClassificationEvaluator"
   ]
  },
  {
   "cell_type": "code",
   "execution_count": 57,
   "metadata": {},
   "outputs": [],
   "source": [
    "# Create a spark session/application\n",
    "spark = SparkSession.builder.appName('iris_dataset').getOrCreate()"
   ]
  },
  {
   "cell_type": "code",
   "execution_count": 58,
   "metadata": {},
   "outputs": [],
   "source": [
    "# Load the dataset\n",
    "df = spark.read.csv('../../data/iris.csv', inferSchema=True, header=True)"
   ]
  },
  {
   "cell_type": "code",
   "execution_count": 59,
   "metadata": {},
   "outputs": [
    {
     "name": "stdout",
     "output_type": "stream",
     "text": [
      "root\n",
      " |-- sepal_length: double (nullable = true)\n",
      " |-- sepal_width: double (nullable = true)\n",
      " |-- petal_length: double (nullable = true)\n",
      " |-- petal_width: double (nullable = true)\n",
      " |-- species: string (nullable = true)\n",
      "\n"
     ]
    },
    {
     "data": {
      "text/plain": [
       "None"
      ]
     },
     "metadata": {},
     "output_type": "display_data"
    },
    {
     "name": "stdout",
     "output_type": "stream",
     "text": [
      "+------------+-----------+------------+-----------+---------+\n",
      "|sepal_length|sepal_width|petal_length|petal_width|  species|\n",
      "+------------+-----------+------------+-----------+---------+\n",
      "|         6.0|        3.0|         4.8|        1.8|virginica|\n",
      "|         6.9|        3.1|         5.4|        2.1|virginica|\n",
      "|         6.7|        3.1|         5.6|        2.4|virginica|\n",
      "|         6.9|        3.1|         5.1|        2.3|virginica|\n",
      "|         5.8|        2.7|         5.1|        1.9|virginica|\n",
      "+------------+-----------+------------+-----------+---------+\n",
      "only showing top 5 rows\n",
      "\n"
     ]
    },
    {
     "data": {
      "text/plain": [
       "None"
      ]
     },
     "metadata": {},
     "output_type": "display_data"
    }
   ],
   "source": [
    "display(df.printSchema())\n",
    "display(df.show(5))"
   ]
  },
  {
   "cell_type": "code",
   "execution_count": 60,
   "metadata": {},
   "outputs": [],
   "source": [
    "#encode the species column\n",
    "indexer = StringIndexer(inputCol='species', outputCol='label')\n",
    "df = indexer.fit(df).transform(df)"
   ]
  },
  {
   "cell_type": "code",
   "execution_count": 61,
   "metadata": {},
   "outputs": [
    {
     "name": "stdout",
     "output_type": "stream",
     "text": [
      "+------------+-----------+------------+-----------+---------+-----+\n",
      "|sepal_length|sepal_width|petal_length|petal_width|  species|label|\n",
      "+------------+-----------+------------+-----------+---------+-----+\n",
      "|         6.0|        3.0|         4.8|        1.8|virginica|  2.0|\n",
      "|         6.9|        3.1|         5.4|        2.1|virginica|  2.0|\n",
      "|         6.7|        3.1|         5.6|        2.4|virginica|  2.0|\n",
      "|         6.9|        3.1|         5.1|        2.3|virginica|  2.0|\n",
      "|         5.8|        2.7|         5.1|        1.9|virginica|  2.0|\n",
      "+------------+-----------+------------+-----------+---------+-----+\n",
      "only showing top 5 rows\n",
      "\n"
     ]
    }
   ],
   "source": [
    "df.show(5)"
   ]
  },
  {
   "cell_type": "code",
   "execution_count": 62,
   "metadata": {},
   "outputs": [],
   "source": [
    "# Create a vector assembler for the feature columns\n",
    "assembler = VectorAssembler(inputCols=['sepal_length', 'sepal_width', 'petal_length', 'petal_width'], outputCol='features')\n",
    "df = assembler.transform(df)"
   ]
  },
  {
   "cell_type": "code",
   "execution_count": 63,
   "metadata": {},
   "outputs": [
    {
     "name": "stdout",
     "output_type": "stream",
     "text": [
      "+------------+-----------+------------+-----------+---------+-----+-----------------+\n",
      "|sepal_length|sepal_width|petal_length|petal_width|  species|label|         features|\n",
      "+------------+-----------+------------+-----------+---------+-----+-----------------+\n",
      "|         6.0|        3.0|         4.8|        1.8|virginica|  2.0|[6.0,3.0,4.8,1.8]|\n",
      "|         6.9|        3.1|         5.4|        2.1|virginica|  2.0|[6.9,3.1,5.4,2.1]|\n",
      "|         6.7|        3.1|         5.6|        2.4|virginica|  2.0|[6.7,3.1,5.6,2.4]|\n",
      "|         6.9|        3.1|         5.1|        2.3|virginica|  2.0|[6.9,3.1,5.1,2.3]|\n",
      "|         5.8|        2.7|         5.1|        1.9|virginica|  2.0|[5.8,2.7,5.1,1.9]|\n",
      "+------------+-----------+------------+-----------+---------+-----+-----------------+\n",
      "only showing top 5 rows\n",
      "\n"
     ]
    }
   ],
   "source": [
    "df.show(5)"
   ]
  },
  {
   "cell_type": "code",
   "execution_count": 64,
   "metadata": {},
   "outputs": [],
   "source": [
    "# Split the data into train and test sets\n",
    "train, test = df.randomSplit([0.7, 0.3])"
   ]
  },
  {
   "cell_type": "code",
   "execution_count": 65,
   "metadata": {},
   "outputs": [],
   "source": [
    "# Create a logistic regression model\n",
    "lr = LogisticRegression(featuresCol='features', labelCol='label')\n",
    "dt = DecisionTreeClassifier(featuresCol='features', labelCol='label')\n",
    "rf = RandomForestClassifier(featuresCol='features', labelCol='label')"
   ]
  },
  {
   "cell_type": "code",
   "execution_count": 66,
   "metadata": {},
   "outputs": [],
   "source": [
    "# Fit all the models on the training data\n",
    "lr_model = lr.fit(train)\n",
    "dt_model = dt.fit(train)\n",
    "rf_model = rf.fit(train)"
   ]
  },
  {
   "cell_type": "code",
   "execution_count": 67,
   "metadata": {},
   "outputs": [],
   "source": [
    "# Make predictions\n",
    "lr_predictions = lr_model.transform(test)\n",
    "dt_predictions = dt_model.transform(test)\n",
    "rf_predictions = rf_model.transform(test)"
   ]
  },
  {
   "cell_type": "code",
   "execution_count": 68,
   "metadata": {},
   "outputs": [
    {
     "name": "stdout",
     "output_type": "stream",
     "text": [
      "Logistic Regression Accuracy:  0.918918918918919\n",
      "Decision Tree Accuracy:  0.9459459459459459\n",
      "Random Forest Accuracy:  0.8918918918918919\n"
     ]
    }
   ],
   "source": [
    "# Evaluate the models\n",
    "evaluator = MulticlassClassificationEvaluator(labelCol='label', predictionCol='prediction', metricName='accuracy')\n",
    "\n",
    "lr_accuracy = evaluator.evaluate(lr_predictions)\n",
    "dt_accuracy = evaluator.evaluate(dt_predictions)\n",
    "rf_accuracy = evaluator.evaluate(rf_predictions)\n",
    "\n",
    "print('Logistic Regression Accuracy: ', lr_accuracy)\n",
    "print('Decision Tree Accuracy: ', dt_accuracy)\n",
    "print('Random Forest Accuracy: ', rf_accuracy)"
   ]
  },
  {
   "cell_type": "code",
   "execution_count": 70,
   "metadata": {},
   "outputs": [],
   "source": [
    "# Classification report\n",
    "lr_metrics = MulticlassMetrics(lr_predictions.select('label', 'prediction').rdd)\n",
    "dt_metrics = MulticlassMetrics(dt_predictions.select('label', 'prediction').rdd)\n",
    "rf_metrics = MulticlassMetrics(rf_predictions.select('label', 'prediction').rdd)"
   ]
  },
  {
   "cell_type": "code",
   "execution_count": 71,
   "metadata": {},
   "outputs": [],
   "source": [
    "# Create Precision, Recall and F1 score for each class\n",
    "labels = [0.0, 1.0, 2.0]\n",
    "report = {\"Logistic Regression\": {\"precision\": {}, \"recall\": {}, \"f1-score\": {}},\n",
    "            \"Decision Tree\": {\"precision\": {}, \"recall\": {}, \"f1-score\": {}},\n",
    "            \"Random Forest\": {\"precision\": {}, \"recall\": {}, \"f1-score\": {}}}\n",
    "\n",
    "for label in labels:\n",
    "    report[\"Logistic Regression\"][\"precision\"][label] = lr_metrics.precision(label)\n",
    "    report[\"Logistic Regression\"][\"recall\"][label] = lr_metrics.recall(label)\n",
    "    report[\"Logistic Regression\"][\"f1-score\"][label] = lr_metrics.fMeasure(label)\n",
    "\n",
    "    report[\"Decision Tree\"][\"precision\"][label] = dt_metrics.precision(label)\n",
    "    report[\"Decision Tree\"][\"recall\"][label] = dt_metrics.recall(label)\n",
    "    report[\"Decision Tree\"][\"f1-score\"][label] = dt_metrics.fMeasure(label)\n",
    "\n",
    "    report[\"Random Forest\"][\"precision\"][label] = rf_metrics.precision(label)\n",
    "    report[\"Random Forest\"][\"recall\"][label] = rf_metrics.recall(label)\n",
    "    report[\"Random Forest\"][\"f1-score\"][label] = rf_metrics.fMeasure(label)"
   ]
  },
  {
   "cell_type": "code",
   "execution_count": 72,
   "metadata": {},
   "outputs": [
    {
     "name": "stdout",
     "output_type": "stream",
     "text": [
      "{'Logistic Regression': {'precision': {0.0: 1.0, 1.0: 0.8181818181818182, 2.0: 0.9166666666666666}, 'recall': {0.0: 1.0, 1.0: 0.9, 2.0: 0.8461538461538461}, 'f1-score': {0.0: 1.0, 1.0: 0.8571428571428572, 2.0: 0.8799999999999999}}, 'Decision Tree': {'precision': {0.0: 1.0, 1.0: 0.8181818181818182, 2.0: 1.0}, 'recall': {0.0: 1.0, 1.0: 1.0, 2.0: 0.8571428571428571}, 'f1-score': {0.0: 1.0, 1.0: 0.9, 2.0: 0.923076923076923}}, 'Random Forest': {'precision': {0.0: 1.0, 1.0: 0.8181818181818182, 2.0: 0.8333333333333334}, 'recall': {0.0: 1.0, 1.0: 0.8181818181818182, 2.0: 0.8333333333333334}, 'f1-score': {0.0: 1.0, 1.0: 0.8181818181818182, 2.0: 0.8333333333333334}}}\n"
     ]
    }
   ],
   "source": [
    "# Display the report\n",
    "print(report)"
   ]
  },
  {
   "cell_type": "code",
   "execution_count": 73,
   "metadata": {},
   "outputs": [
    {
     "name": "stdout",
     "output_type": "stream",
     "text": [
      "Logistic Regression Confusion Matrix\n",
      " [[14.  0.  0.]\n",
      " [ 0.  9.  1.]\n",
      " [ 0.  2. 11.]]\n",
      "Decision Tree Confusion Matrix\n",
      " [[14.  0.  0.]\n",
      " [ 0.  9.  0.]\n",
      " [ 0.  2. 12.]]\n",
      "Random Forest Confusion Matrix\n",
      " [[14.  0.  0.]\n",
      " [ 0.  9.  2.]\n",
      " [ 0.  2. 10.]]\n"
     ]
    }
   ],
   "source": [
    "# Display the confusion matrix\n",
    "print(\"Logistic Regression Confusion Matrix\\n\", lr_metrics.confusionMatrix().toArray())\n",
    "print(\"Decision Tree Confusion Matrix\\n\", dt_metrics.confusionMatrix().toArray())\n",
    "print(\"Random Forest Confusion Matrix\\n\", rf_metrics.confusionMatrix().toArray())"
   ]
  },
  {
   "cell_type": "code",
   "execution_count": null,
   "metadata": {},
   "outputs": [],
   "source": []
  }
 ],
 "metadata": {
  "kernelspec": {
   "display_name": "pyspark_env",
   "language": "python",
   "name": "python3"
  },
  "language_info": {
   "codemirror_mode": {
    "name": "ipython",
    "version": 3
   },
   "file_extension": ".py",
   "mimetype": "text/x-python",
   "name": "python",
   "nbconvert_exporter": "python",
   "pygments_lexer": "ipython3",
   "version": "3.9.16"
  },
  "orig_nbformat": 4
 },
 "nbformat": 4,
 "nbformat_minor": 2
}
