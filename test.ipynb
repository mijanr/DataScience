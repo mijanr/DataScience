{
 "cells": [
  {
   "cell_type": "code",
   "execution_count": 16,
   "metadata": {
    "collapsed": true,
    "pycharm": {
     "name": "#%%\n"
    }
   },
   "outputs": [],
   "source": [
    "import pandas as pd\n",
    "import  seaborn as sns\n",
    "import numpy as np\n",
    "import  matplotlib.pyplot as plt"
   ]
  },
  {
   "cell_type": "code",
   "execution_count": 23,
   "outputs": [
    {
     "data": {
      "text/plain": "   sepal_length  sepal_width  petal_length  petal_width species\n0           5.1          3.5           1.4          0.2  setosa\n1           4.9          3.0           1.4          0.2  setosa\n2           4.7          3.2           1.3          0.2  setosa",
      "text/html": "<div>\n<style scoped>\n    .dataframe tbody tr th:only-of-type {\n        vertical-align: middle;\n    }\n\n    .dataframe tbody tr th {\n        vertical-align: top;\n    }\n\n    .dataframe thead th {\n        text-align: right;\n    }\n</style>\n<table border=\"1\" class=\"dataframe\">\n  <thead>\n    <tr style=\"text-align: right;\">\n      <th></th>\n      <th>sepal_length</th>\n      <th>sepal_width</th>\n      <th>petal_length</th>\n      <th>petal_width</th>\n      <th>species</th>\n    </tr>\n  </thead>\n  <tbody>\n    <tr>\n      <th>0</th>\n      <td>5.1</td>\n      <td>3.5</td>\n      <td>1.4</td>\n      <td>0.2</td>\n      <td>setosa</td>\n    </tr>\n    <tr>\n      <th>1</th>\n      <td>4.9</td>\n      <td>3.0</td>\n      <td>1.4</td>\n      <td>0.2</td>\n      <td>setosa</td>\n    </tr>\n    <tr>\n      <th>2</th>\n      <td>4.7</td>\n      <td>3.2</td>\n      <td>1.3</td>\n      <td>0.2</td>\n      <td>setosa</td>\n    </tr>\n  </tbody>\n</table>\n</div>"
     },
     "execution_count": 23,
     "metadata": {},
     "output_type": "execute_result"
    }
   ],
   "source": [
    "df = sns.load_dataset('iris')\n",
    "df.head(3)"
   ],
   "metadata": {
    "collapsed": false,
    "pycharm": {
     "name": "#%%\n"
    }
   }
  },
  {
   "cell_type": "code",
   "execution_count": 25,
   "outputs": [
    {
     "data": {
      "text/plain": "   sepal_length  sepal_width  petal_length  petal_width  species_setosa  \\\n0           5.1          3.5           1.4          0.2               1   \n1           4.9          3.0           1.4          0.2               1   \n2           4.7          3.2           1.3          0.2               1   \n\n   species_versicolor  species_virginica  \n0                   0                  0  \n1                   0                  0  \n2                   0                  0  ",
      "text/html": "<div>\n<style scoped>\n    .dataframe tbody tr th:only-of-type {\n        vertical-align: middle;\n    }\n\n    .dataframe tbody tr th {\n        vertical-align: top;\n    }\n\n    .dataframe thead th {\n        text-align: right;\n    }\n</style>\n<table border=\"1\" class=\"dataframe\">\n  <thead>\n    <tr style=\"text-align: right;\">\n      <th></th>\n      <th>sepal_length</th>\n      <th>sepal_width</th>\n      <th>petal_length</th>\n      <th>petal_width</th>\n      <th>species_setosa</th>\n      <th>species_versicolor</th>\n      <th>species_virginica</th>\n    </tr>\n  </thead>\n  <tbody>\n    <tr>\n      <th>0</th>\n      <td>5.1</td>\n      <td>3.5</td>\n      <td>1.4</td>\n      <td>0.2</td>\n      <td>1</td>\n      <td>0</td>\n      <td>0</td>\n    </tr>\n    <tr>\n      <th>1</th>\n      <td>4.9</td>\n      <td>3.0</td>\n      <td>1.4</td>\n      <td>0.2</td>\n      <td>1</td>\n      <td>0</td>\n      <td>0</td>\n    </tr>\n    <tr>\n      <th>2</th>\n      <td>4.7</td>\n      <td>3.2</td>\n      <td>1.3</td>\n      <td>0.2</td>\n      <td>1</td>\n      <td>0</td>\n      <td>0</td>\n    </tr>\n  </tbody>\n</table>\n</div>"
     },
     "execution_count": 25,
     "metadata": {},
     "output_type": "execute_result"
    }
   ],
   "source": [
    "df_n = pd.get_dummies(data=df, columns=['species'])\n",
    "df_n.head(3)"
   ],
   "metadata": {
    "collapsed": false,
    "pycharm": {
     "name": "#%%\n"
    }
   }
  },
  {
   "cell_type": "code",
   "execution_count": 29,
   "outputs": [
    {
     "data": {
      "text/plain": "<pandas.io.formats.style.Styler at 0x7f691c19a310>",
      "text/html": "<style  type=\"text/css\" >\n#T_600df_row0_col0,#T_600df_row1_col1,#T_600df_row2_col2,#T_600df_row3_col3{\n            background-color:  #b40426;\n            color:  #f1f1f1;\n        }#T_600df_row0_col1{\n            background-color:  #81a4fb;\n            color:  #000000;\n        }#T_600df_row0_col2{\n            background-color:  #d24b40;\n            color:  #f1f1f1;\n        }#T_600df_row0_col3{\n            background-color:  #e0654f;\n            color:  #000000;\n        }#T_600df_row1_col0,#T_600df_row1_col2,#T_600df_row1_col3,#T_600df_row2_col1{\n            background-color:  #3b4cc0;\n            color:  #f1f1f1;\n        }#T_600df_row2_col0{\n            background-color:  #da5a49;\n            color:  #000000;\n        }#T_600df_row2_col3,#T_600df_row3_col2{\n            background-color:  #bd1f2d;\n            color:  #f1f1f1;\n        }#T_600df_row3_col0{\n            background-color:  #e67259;\n            color:  #000000;\n        }#T_600df_row3_col1{\n            background-color:  #485fd1;\n            color:  #f1f1f1;\n        }</style><table id=\"T_600df_\" ><thead>    <tr>        <th class=\"blank level0\" ></th>        <th class=\"col_heading level0 col0\" >sepal_length</th>        <th class=\"col_heading level0 col1\" >sepal_width</th>        <th class=\"col_heading level0 col2\" >petal_length</th>        <th class=\"col_heading level0 col3\" >petal_width</th>    </tr></thead><tbody>\n                <tr>\n                        <th id=\"T_600df_level0_row0\" class=\"row_heading level0 row0\" >sepal_length</th>\n                        <td id=\"T_600df_row0_col0\" class=\"data row0 col0\" >1.000000</td>\n                        <td id=\"T_600df_row0_col1\" class=\"data row0 col1\" >-0.117570</td>\n                        <td id=\"T_600df_row0_col2\" class=\"data row0 col2\" >0.871754</td>\n                        <td id=\"T_600df_row0_col3\" class=\"data row0 col3\" >0.817941</td>\n            </tr>\n            <tr>\n                        <th id=\"T_600df_level0_row1\" class=\"row_heading level0 row1\" >sepal_width</th>\n                        <td id=\"T_600df_row1_col0\" class=\"data row1 col0\" >-0.117570</td>\n                        <td id=\"T_600df_row1_col1\" class=\"data row1 col1\" >1.000000</td>\n                        <td id=\"T_600df_row1_col2\" class=\"data row1 col2\" >-0.428440</td>\n                        <td id=\"T_600df_row1_col3\" class=\"data row1 col3\" >-0.366126</td>\n            </tr>\n            <tr>\n                        <th id=\"T_600df_level0_row2\" class=\"row_heading level0 row2\" >petal_length</th>\n                        <td id=\"T_600df_row2_col0\" class=\"data row2 col0\" >0.871754</td>\n                        <td id=\"T_600df_row2_col1\" class=\"data row2 col1\" >-0.428440</td>\n                        <td id=\"T_600df_row2_col2\" class=\"data row2 col2\" >1.000000</td>\n                        <td id=\"T_600df_row2_col3\" class=\"data row2 col3\" >0.962865</td>\n            </tr>\n            <tr>\n                        <th id=\"T_600df_level0_row3\" class=\"row_heading level0 row3\" >petal_width</th>\n                        <td id=\"T_600df_row3_col0\" class=\"data row3 col0\" >0.817941</td>\n                        <td id=\"T_600df_row3_col1\" class=\"data row3 col1\" >-0.366126</td>\n                        <td id=\"T_600df_row3_col2\" class=\"data row3 col2\" >0.962865</td>\n                        <td id=\"T_600df_row3_col3\" class=\"data row3 col3\" >1.000000</td>\n            </tr>\n    </tbody></table>"
     },
     "execution_count": 29,
     "metadata": {},
     "output_type": "execute_result"
    }
   ],
   "source": [
    "df.corr(method='pearson').style.background_gradient(cmap='coolwarm')"
   ],
   "metadata": {
    "collapsed": false,
    "pycharm": {
     "name": "#%%\n"
    }
   }
  },
  {
   "cell_type": "code",
   "execution_count": null,
   "outputs": [],
   "source": [],
   "metadata": {
    "collapsed": false,
    "pycharm": {
     "name": "#%%\n"
    }
   }
  }
 ],
 "metadata": {
  "kernelspec": {
   "display_name": "Python 3",
   "language": "python",
   "name": "python3"
  },
  "language_info": {
   "codemirror_mode": {
    "name": "ipython",
    "version": 2
   },
   "file_extension": ".py",
   "mimetype": "text/x-python",
   "name": "python",
   "nbconvert_exporter": "python",
   "pygments_lexer": "ipython2",
   "version": "2.7.6"
  }
 },
 "nbformat": 4,
 "nbformat_minor": 0
}