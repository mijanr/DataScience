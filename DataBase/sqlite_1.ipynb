{
 "cells": [
  {
   "cell_type": "code",
   "execution_count": 47,
   "source": [
    "import pandas as pd \n",
    "from pandasql import sqldf\n",
    "from pandasql import load_births"
   ],
   "outputs": [],
   "metadata": {}
  },
  {
   "cell_type": "code",
   "execution_count": 48,
   "source": [
    "births = load_births()"
   ],
   "outputs": [],
   "metadata": {}
  },
  {
   "cell_type": "code",
   "execution_count": 49,
   "source": [
    "print(sqldf('SELECT * FROM births where births >250000 limit 5;', locals()))"
   ],
   "outputs": [
    {
     "output_type": "stream",
     "name": "stdout",
     "text": [
      "                         date  births\n",
      "0  1975-01-01 00:00:00.000000  265775\n",
      "1  1975-03-01 00:00:00.000000  268849\n",
      "2  1975-05-01 00:00:00.000000  254545\n",
      "3  1975-06-01 00:00:00.000000  254096\n",
      "4  1975-07-01 00:00:00.000000  275163\n"
     ]
    }
   ],
   "metadata": {}
  },
  {
   "cell_type": "code",
   "execution_count": 50,
   "source": [
    "q = \"\"\"\n",
    "    select \n",
    "        date(date) as DOB,\n",
    "        sum(births) as 'Total Births'\n",
    "    from \n",
    "        births\n",
    "    group by \n",
    "        date \n",
    "        limit 10;\n",
    "\"\"\""
   ],
   "outputs": [],
   "metadata": {}
  },
  {
   "cell_type": "code",
   "execution_count": 51,
   "source": [
    "print(sqldf(q, locals()))"
   ],
   "outputs": [
    {
     "output_type": "stream",
     "name": "stdout",
     "text": [
      "          DOB  Total Births\n",
      "0  1975-01-01        265775\n",
      "1  1975-02-01        241045\n",
      "2  1975-03-01        268849\n",
      "3  1975-04-01        247455\n",
      "4  1975-05-01        254545\n",
      "5  1975-06-01        254096\n",
      "6  1975-07-01        275163\n",
      "7  1975-08-01        281300\n",
      "8  1975-09-01        270738\n",
      "9  1975-10-01        265494\n"
     ]
    }
   ],
   "metadata": {}
  },
  {
   "cell_type": "code",
   "execution_count": 54,
   "source": [
    "def pysqldf(q):\n",
    "    return sqldf(q, globals())"
   ],
   "outputs": [],
   "metadata": {}
  },
  {
   "cell_type": "code",
   "execution_count": 55,
   "source": [
    "print(pysqldf(q))"
   ],
   "outputs": [
    {
     "output_type": "stream",
     "name": "stdout",
     "text": [
      "          DOB  Total Births\n",
      "0  1975-01-01        265775\n",
      "1  1975-02-01        241045\n",
      "2  1975-03-01        268849\n",
      "3  1975-04-01        247455\n",
      "4  1975-05-01        254545\n",
      "5  1975-06-01        254096\n",
      "6  1975-07-01        275163\n",
      "7  1975-08-01        281300\n",
      "8  1975-09-01        270738\n",
      "9  1975-10-01        265494\n"
     ]
    }
   ],
   "metadata": {}
  },
  {
   "cell_type": "code",
   "execution_count": 58,
   "source": [
    "%pwd"
   ],
   "outputs": [
    {
     "output_type": "execute_result",
     "data": {
      "text/plain": [
       "'/home/popo/myProjects/dataScience/DataBase'"
      ]
     },
     "metadata": {},
     "execution_count": 58
    }
   ],
   "metadata": {}
  },
  {
   "cell_type": "code",
   "execution_count": null,
   "source": [
    "sqldf()"
   ],
   "outputs": [],
   "metadata": {}
  }
 ],
 "metadata": {
  "orig_nbformat": 4,
  "language_info": {
   "name": "python",
   "version": "3.8.8",
   "mimetype": "text/x-python",
   "codemirror_mode": {
    "name": "ipython",
    "version": 3
   },
   "pygments_lexer": "ipython3",
   "nbconvert_exporter": "python",
   "file_extension": ".py"
  },
  "kernelspec": {
   "name": "python3",
   "display_name": "Python 3.8.8 64-bit ('base': conda)"
  },
  "interpreter": {
   "hash": "932453c921d7b565a9230ab4f6d597300067d8f7d5782d85d210d0cea901e742"
  }
 },
 "nbformat": 4,
 "nbformat_minor": 2
}